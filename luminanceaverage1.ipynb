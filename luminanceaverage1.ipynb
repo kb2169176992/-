{
 "cells": [
  {
   "cell_type": "code",
   "execution_count": null,
   "metadata": {},
   "outputs": [],
   "source": [
    "%matplotlib nbagg\n",
    "\n",
    "import itertools\n",
    "import math\n",
    "\n",
    "import numpy as np\n",
    "import matplotlib.pyplot as plt\n",
    "import matplotlib.animation as animation\n",
    "\n",
    "import cv2\n",
    "\n",
    "capture = cv2.VideoCapture(0)\n",
    "\n",
    "fig = plt.figure()\n",
    "\n",
    "y = []\n",
    "\n",
    "def plot(data):\n",
    "    plt.cla()                      # 現在描写されているグラフを消去\n",
    "    ret, frame = capture.read()\n",
    "    y.append(frame.mean())\n",
    "    im = plt.plot(y)            # グラフを生成\n",
    "\n",
    "ani = animation.FuncAnimation(fig, plot, interval=100)\n",
    "plt.show()"
   ]
  }
 ],
 "metadata": {
  "kernelspec": {
   "display_name": "Python 3",
   "language": "python",
   "name": "python3"
  },
  "language_info": {
   "codemirror_mode": {
    "name": "ipython",
    "version": 3
   },
   "file_extension": ".py",
   "mimetype": "text/x-python",
   "name": "python",
   "nbconvert_exporter": "python",
   "pygments_lexer": "ipython3",
   "version": "3.7.3"
  }
 },
 "nbformat": 4,
 "nbformat_minor": 2
}
